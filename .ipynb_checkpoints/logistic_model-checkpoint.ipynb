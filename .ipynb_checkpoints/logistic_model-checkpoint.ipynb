{
 "cells": [
  {
   "cell_type": "markdown",
   "id": "d3a70221",
   "metadata": {},
   "source": [
    "# Import Libraries"
   ]
  },
  {
   "cell_type": "code",
   "execution_count": 2,
   "id": "b2884a4b",
   "metadata": {},
   "outputs": [],
   "source": [
    "import pandas as pd\n",
    "import numpy as np\n",
    "\n",
    "\n",
    "from sklearn.preprocessing import MinMaxScaler, StandardScaler\n",
    "from sklearn.model_selection import train_test_split\n",
    "from sklearn.linear_model import LinearRegression\n",
    "from sklearn.neighbors import KNeighborsRegressor\n",
    "\n",
    "import pickle\n",
    "import json"
   ]
  },
  {
   "cell_type": "markdown",
   "id": "bba067a9",
   "metadata": {},
   "source": [
    "# Data Gathering"
   ]
  },
  {
   "cell_type": "code",
   "execution_count": 4,
   "id": "f8673612",
   "metadata": {},
   "outputs": [
    {
     "data": {
      "text/html": [
       "<div>\n",
       "<style scoped>\n",
       "    .dataframe tbody tr th:only-of-type {\n",
       "        vertical-align: middle;\n",
       "    }\n",
       "\n",
       "    .dataframe tbody tr th {\n",
       "        vertical-align: top;\n",
       "    }\n",
       "\n",
       "    .dataframe thead th {\n",
       "        text-align: right;\n",
       "    }\n",
       "</style>\n",
       "<table border=\"1\" class=\"dataframe\">\n",
       "  <thead>\n",
       "    <tr style=\"text-align: right;\">\n",
       "      <th></th>\n",
       "      <th>gender</th>\n",
       "      <th>ssc_percentage</th>\n",
       "      <th>ssc_board</th>\n",
       "      <th>hsc_percentage</th>\n",
       "      <th>hsc_board</th>\n",
       "      <th>hsc_subject</th>\n",
       "      <th>degree_percentage</th>\n",
       "      <th>undergrad_degree</th>\n",
       "      <th>work_experience</th>\n",
       "      <th>emp_test_percentage</th>\n",
       "      <th>specialisation</th>\n",
       "      <th>mba_percent</th>\n",
       "      <th>status</th>\n",
       "    </tr>\n",
       "  </thead>\n",
       "  <tbody>\n",
       "    <tr>\n",
       "      <th>0</th>\n",
       "      <td>M</td>\n",
       "      <td>67.00</td>\n",
       "      <td>Others</td>\n",
       "      <td>91.00</td>\n",
       "      <td>Others</td>\n",
       "      <td>Commerce</td>\n",
       "      <td>58.00</td>\n",
       "      <td>Sci&amp;Tech</td>\n",
       "      <td>No</td>\n",
       "      <td>55.0</td>\n",
       "      <td>Mkt&amp;HR</td>\n",
       "      <td>58.80</td>\n",
       "      <td>Placed</td>\n",
       "    </tr>\n",
       "    <tr>\n",
       "      <th>1</th>\n",
       "      <td>M</td>\n",
       "      <td>79.33</td>\n",
       "      <td>Central</td>\n",
       "      <td>78.33</td>\n",
       "      <td>Others</td>\n",
       "      <td>Science</td>\n",
       "      <td>77.48</td>\n",
       "      <td>Sci&amp;Tech</td>\n",
       "      <td>Yes</td>\n",
       "      <td>86.5</td>\n",
       "      <td>Mkt&amp;Fin</td>\n",
       "      <td>66.28</td>\n",
       "      <td>Placed</td>\n",
       "    </tr>\n",
       "    <tr>\n",
       "      <th>2</th>\n",
       "      <td>M</td>\n",
       "      <td>65.00</td>\n",
       "      <td>Central</td>\n",
       "      <td>68.00</td>\n",
       "      <td>Central</td>\n",
       "      <td>Arts</td>\n",
       "      <td>64.00</td>\n",
       "      <td>Comm&amp;Mgmt</td>\n",
       "      <td>No</td>\n",
       "      <td>75.0</td>\n",
       "      <td>Mkt&amp;Fin</td>\n",
       "      <td>57.80</td>\n",
       "      <td>Placed</td>\n",
       "    </tr>\n",
       "    <tr>\n",
       "      <th>3</th>\n",
       "      <td>M</td>\n",
       "      <td>56.00</td>\n",
       "      <td>Central</td>\n",
       "      <td>52.00</td>\n",
       "      <td>Central</td>\n",
       "      <td>Science</td>\n",
       "      <td>52.00</td>\n",
       "      <td>Sci&amp;Tech</td>\n",
       "      <td>No</td>\n",
       "      <td>66.0</td>\n",
       "      <td>Mkt&amp;HR</td>\n",
       "      <td>59.43</td>\n",
       "      <td>Not Placed</td>\n",
       "    </tr>\n",
       "    <tr>\n",
       "      <th>4</th>\n",
       "      <td>M</td>\n",
       "      <td>85.80</td>\n",
       "      <td>Central</td>\n",
       "      <td>73.60</td>\n",
       "      <td>Central</td>\n",
       "      <td>Commerce</td>\n",
       "      <td>73.30</td>\n",
       "      <td>Comm&amp;Mgmt</td>\n",
       "      <td>No</td>\n",
       "      <td>96.8</td>\n",
       "      <td>Mkt&amp;Fin</td>\n",
       "      <td>55.50</td>\n",
       "      <td>Placed</td>\n",
       "    </tr>\n",
       "    <tr>\n",
       "      <th>...</th>\n",
       "      <td>...</td>\n",
       "      <td>...</td>\n",
       "      <td>...</td>\n",
       "      <td>...</td>\n",
       "      <td>...</td>\n",
       "      <td>...</td>\n",
       "      <td>...</td>\n",
       "      <td>...</td>\n",
       "      <td>...</td>\n",
       "      <td>...</td>\n",
       "      <td>...</td>\n",
       "      <td>...</td>\n",
       "      <td>...</td>\n",
       "    </tr>\n",
       "    <tr>\n",
       "      <th>210</th>\n",
       "      <td>M</td>\n",
       "      <td>80.60</td>\n",
       "      <td>Others</td>\n",
       "      <td>82.00</td>\n",
       "      <td>Others</td>\n",
       "      <td>Commerce</td>\n",
       "      <td>77.60</td>\n",
       "      <td>Comm&amp;Mgmt</td>\n",
       "      <td>No</td>\n",
       "      <td>91.0</td>\n",
       "      <td>Mkt&amp;Fin</td>\n",
       "      <td>74.49</td>\n",
       "      <td>Placed</td>\n",
       "    </tr>\n",
       "    <tr>\n",
       "      <th>211</th>\n",
       "      <td>M</td>\n",
       "      <td>58.00</td>\n",
       "      <td>Others</td>\n",
       "      <td>60.00</td>\n",
       "      <td>Others</td>\n",
       "      <td>Science</td>\n",
       "      <td>72.00</td>\n",
       "      <td>Sci&amp;Tech</td>\n",
       "      <td>No</td>\n",
       "      <td>74.0</td>\n",
       "      <td>Mkt&amp;Fin</td>\n",
       "      <td>53.62</td>\n",
       "      <td>Placed</td>\n",
       "    </tr>\n",
       "    <tr>\n",
       "      <th>212</th>\n",
       "      <td>M</td>\n",
       "      <td>67.00</td>\n",
       "      <td>Others</td>\n",
       "      <td>67.00</td>\n",
       "      <td>Others</td>\n",
       "      <td>Commerce</td>\n",
       "      <td>73.00</td>\n",
       "      <td>Comm&amp;Mgmt</td>\n",
       "      <td>Yes</td>\n",
       "      <td>59.0</td>\n",
       "      <td>Mkt&amp;Fin</td>\n",
       "      <td>69.72</td>\n",
       "      <td>Placed</td>\n",
       "    </tr>\n",
       "    <tr>\n",
       "      <th>213</th>\n",
       "      <td>F</td>\n",
       "      <td>74.00</td>\n",
       "      <td>Others</td>\n",
       "      <td>66.00</td>\n",
       "      <td>Others</td>\n",
       "      <td>Commerce</td>\n",
       "      <td>58.00</td>\n",
       "      <td>Comm&amp;Mgmt</td>\n",
       "      <td>No</td>\n",
       "      <td>70.0</td>\n",
       "      <td>Mkt&amp;HR</td>\n",
       "      <td>60.23</td>\n",
       "      <td>Placed</td>\n",
       "    </tr>\n",
       "    <tr>\n",
       "      <th>214</th>\n",
       "      <td>M</td>\n",
       "      <td>62.00</td>\n",
       "      <td>Central</td>\n",
       "      <td>58.00</td>\n",
       "      <td>Others</td>\n",
       "      <td>Science</td>\n",
       "      <td>53.00</td>\n",
       "      <td>Comm&amp;Mgmt</td>\n",
       "      <td>No</td>\n",
       "      <td>89.0</td>\n",
       "      <td>Mkt&amp;HR</td>\n",
       "      <td>60.22</td>\n",
       "      <td>Not Placed</td>\n",
       "    </tr>\n",
       "  </tbody>\n",
       "</table>\n",
       "<p>215 rows × 13 columns</p>\n",
       "</div>"
      ],
      "text/plain": [
       "    gender  ssc_percentage ssc_board  hsc_percentage hsc_board hsc_subject  \\\n",
       "0        M           67.00    Others           91.00    Others    Commerce   \n",
       "1        M           79.33   Central           78.33    Others     Science   \n",
       "2        M           65.00   Central           68.00   Central        Arts   \n",
       "3        M           56.00   Central           52.00   Central     Science   \n",
       "4        M           85.80   Central           73.60   Central    Commerce   \n",
       "..     ...             ...       ...             ...       ...         ...   \n",
       "210      M           80.60    Others           82.00    Others    Commerce   \n",
       "211      M           58.00    Others           60.00    Others     Science   \n",
       "212      M           67.00    Others           67.00    Others    Commerce   \n",
       "213      F           74.00    Others           66.00    Others    Commerce   \n",
       "214      M           62.00   Central           58.00    Others     Science   \n",
       "\n",
       "     degree_percentage undergrad_degree work_experience  emp_test_percentage  \\\n",
       "0                58.00         Sci&Tech              No                 55.0   \n",
       "1                77.48         Sci&Tech             Yes                 86.5   \n",
       "2                64.00        Comm&Mgmt              No                 75.0   \n",
       "3                52.00         Sci&Tech              No                 66.0   \n",
       "4                73.30        Comm&Mgmt              No                 96.8   \n",
       "..                 ...              ...             ...                  ...   \n",
       "210              77.60        Comm&Mgmt              No                 91.0   \n",
       "211              72.00         Sci&Tech              No                 74.0   \n",
       "212              73.00        Comm&Mgmt             Yes                 59.0   \n",
       "213              58.00        Comm&Mgmt              No                 70.0   \n",
       "214              53.00        Comm&Mgmt              No                 89.0   \n",
       "\n",
       "    specialisation  mba_percent      status  \n",
       "0           Mkt&HR        58.80      Placed  \n",
       "1          Mkt&Fin        66.28      Placed  \n",
       "2          Mkt&Fin        57.80      Placed  \n",
       "3           Mkt&HR        59.43  Not Placed  \n",
       "4          Mkt&Fin        55.50      Placed  \n",
       "..             ...          ...         ...  \n",
       "210        Mkt&Fin        74.49      Placed  \n",
       "211        Mkt&Fin        53.62      Placed  \n",
       "212        Mkt&Fin        69.72      Placed  \n",
       "213         Mkt&HR        60.23      Placed  \n",
       "214         Mkt&HR        60.22  Not Placed  \n",
       "\n",
       "[215 rows x 13 columns]"
      ]
     },
     "execution_count": 4,
     "metadata": {},
     "output_type": "execute_result"
    }
   ],
   "source": [
    "df = pd.read_csv('Job_Placement_Data.csv')\n",
    "df"
   ]
  },
  {
   "cell_type": "code",
   "execution_count": 6,
   "id": "1176f475",
   "metadata": {},
   "outputs": [
    {
     "name": "stdout",
     "output_type": "stream",
     "text": [
      "<class 'pandas.core.frame.DataFrame'>\n",
      "RangeIndex: 215 entries, 0 to 214\n",
      "Data columns (total 13 columns):\n",
      " #   Column               Non-Null Count  Dtype  \n",
      "---  ------               --------------  -----  \n",
      " 0   gender               215 non-null    object \n",
      " 1   ssc_percentage       215 non-null    float64\n",
      " 2   ssc_board            215 non-null    object \n",
      " 3   hsc_percentage       215 non-null    float64\n",
      " 4   hsc_board            215 non-null    object \n",
      " 5   hsc_subject          215 non-null    object \n",
      " 6   degree_percentage    215 non-null    float64\n",
      " 7   undergrad_degree     215 non-null    object \n",
      " 8   work_experience      215 non-null    object \n",
      " 9   emp_test_percentage  215 non-null    float64\n",
      " 10  specialisation       215 non-null    object \n",
      " 11  mba_percent          215 non-null    float64\n",
      " 12  status               215 non-null    object \n",
      "dtypes: float64(5), object(8)\n",
      "memory usage: 22.0+ KB\n"
     ]
    }
   ],
   "source": [
    "df.info()"
   ]
  },
  {
   "cell_type": "code",
   "execution_count": 15,
   "id": "e5d91dd5",
   "metadata": {},
   "outputs": [],
   "source": [
    "df[\"gender\"].value_counts().to_dict()\n",
    "df[\"gender\"].replace({'M': 1, 'F': 0},inplace=True)"
   ]
  },
  {
   "cell_type": "code",
   "execution_count": 12,
   "id": "2afed12a",
   "metadata": {},
   "outputs": [
    {
     "data": {
      "text/plain": [
       "0      67.00\n",
       "1      79.33\n",
       "2      65.00\n",
       "3      56.00\n",
       "4      85.80\n",
       "       ...  \n",
       "210    80.60\n",
       "211    58.00\n",
       "212    67.00\n",
       "213    74.00\n",
       "214    62.00\n",
       "Name: ssc_percentage, Length: 215, dtype: float64"
      ]
     },
     "execution_count": 12,
     "metadata": {},
     "output_type": "execute_result"
    }
   ],
   "source": [
    "df[\"ssc_percentage\"]"
   ]
  },
  {
   "cell_type": "code",
   "execution_count": 14,
   "id": "0d2304a6",
   "metadata": {},
   "outputs": [],
   "source": [
    "df[\"ssc_board\"].value_counts().to_dict()\n",
    "df[\"ssc_board\"].replace({'Central': 1, 'Others': 0},inplace=True)"
   ]
  },
  {
   "cell_type": "code",
   "execution_count": 16,
   "id": "287e4ead",
   "metadata": {},
   "outputs": [
    {
     "data": {
      "text/plain": [
       "0      91.00\n",
       "1      78.33\n",
       "2      68.00\n",
       "3      52.00\n",
       "4      73.60\n",
       "       ...  \n",
       "210    82.00\n",
       "211    60.00\n",
       "212    67.00\n",
       "213    66.00\n",
       "214    58.00\n",
       "Name: hsc_percentage, Length: 215, dtype: float64"
      ]
     },
     "execution_count": 16,
     "metadata": {},
     "output_type": "execute_result"
    }
   ],
   "source": [
    "df[\"hsc_percentage\"]"
   ]
  },
  {
   "cell_type": "code",
   "execution_count": 25,
   "id": "1444ba00",
   "metadata": {
    "scrolled": true
   },
   "outputs": [],
   "source": [
    "df[\"hsc_board\"].value_counts().to_dict()\n",
    "df[\"hsc_board\"].replace({'Others': 0, 'Central': 1},inplace=True)"
   ]
  },
  {
   "cell_type": "code",
   "execution_count": 39,
   "id": "786cf8b0",
   "metadata": {},
   "outputs": [],
   "source": [
    "df[\"hsc_subject\"].value_counts().to_dict()\n",
    "df = pd.get_dummies(df, columns=['hsc_subject'])"
   ]
  },
  {
   "cell_type": "code",
   "execution_count": 20,
   "id": "b4663c32",
   "metadata": {},
   "outputs": [
    {
     "data": {
      "text/plain": [
       "0      58.00\n",
       "1      77.48\n",
       "2      64.00\n",
       "3      52.00\n",
       "4      73.30\n",
       "       ...  \n",
       "210    77.60\n",
       "211    72.00\n",
       "212    73.00\n",
       "213    58.00\n",
       "214    53.00\n",
       "Name: degree_percentage, Length: 215, dtype: float64"
      ]
     },
     "execution_count": 20,
     "metadata": {},
     "output_type": "execute_result"
    }
   ],
   "source": [
    "df[\"degree_percentage\"]"
   ]
  },
  {
   "cell_type": "code",
   "execution_count": 22,
   "id": "3b1a30da",
   "metadata": {},
   "outputs": [
    {
     "data": {
      "text/plain": [
       "{'Comm&Mgmt': 145, 'Sci&Tech': 59, 'Others': 11}"
      ]
     },
     "execution_count": 22,
     "metadata": {},
     "output_type": "execute_result"
    }
   ],
   "source": [
    "df[\"undergrad_degree\"].value_counts().to_dict()"
   ]
  },
  {
   "cell_type": "code",
   "execution_count": 23,
   "id": "aedeaf51",
   "metadata": {},
   "outputs": [],
   "source": [
    "df = pd.get_dummies(df, columns=['undergrad_degree'])"
   ]
  },
  {
   "cell_type": "code",
   "execution_count": 26,
   "id": "0f1203a6",
   "metadata": {},
   "outputs": [],
   "source": [
    "df[\"work_experience\"].value_counts().to_dict()\n",
    "df[\"work_experience\"].replace({'No': 0, 'Yes': 1},inplace=True)"
   ]
  },
  {
   "cell_type": "code",
   "execution_count": 27,
   "id": "8da6cf64",
   "metadata": {},
   "outputs": [
    {
     "data": {
      "text/plain": [
       "0      55.0\n",
       "1      86.5\n",
       "2      75.0\n",
       "3      66.0\n",
       "4      96.8\n",
       "       ... \n",
       "210    91.0\n",
       "211    74.0\n",
       "212    59.0\n",
       "213    70.0\n",
       "214    89.0\n",
       "Name: emp_test_percentage, Length: 215, dtype: float64"
      ]
     },
     "execution_count": 27,
     "metadata": {},
     "output_type": "execute_result"
    }
   ],
   "source": [
    "df[\"emp_test_percentage\"] "
   ]
  },
  {
   "cell_type": "code",
   "execution_count": 31,
   "id": "b0405fa5",
   "metadata": {},
   "outputs": [],
   "source": [
    "df[\"specialisation\"].value_counts().to_dict()\n",
    "df[\"specialisation\"].replace({'Mkt&Fin': 1, 'Mkt&HR': 0},inplace=True)"
   ]
  },
  {
   "cell_type": "code",
   "execution_count": 33,
   "id": "401fceec",
   "metadata": {},
   "outputs": [
    {
     "data": {
      "text/plain": [
       "0      58.80\n",
       "1      66.28\n",
       "2      57.80\n",
       "3      59.43\n",
       "4      55.50\n",
       "       ...  \n",
       "210    74.49\n",
       "211    53.62\n",
       "212    69.72\n",
       "213    60.23\n",
       "214    60.22\n",
       "Name: mba_percent, Length: 215, dtype: float64"
      ]
     },
     "execution_count": 33,
     "metadata": {},
     "output_type": "execute_result"
    }
   ],
   "source": [
    "df[\"mba_percent\"]\n"
   ]
  },
  {
   "cell_type": "code",
   "execution_count": 36,
   "id": "08e25512",
   "metadata": {},
   "outputs": [],
   "source": [
    "df[\"status\"].value_counts().to_dict()\n",
    "df[\"status\"].replace({'Placed': 1, 'Not Placed': 0},inplace=True)"
   ]
  },
  {
   "cell_type": "code",
   "execution_count": 40,
   "id": "703fe1d2",
   "metadata": {},
   "outputs": [
    {
     "name": "stdout",
     "output_type": "stream",
     "text": [
      "<class 'pandas.core.frame.DataFrame'>\n",
      "RangeIndex: 215 entries, 0 to 214\n",
      "Data columns (total 17 columns):\n",
      " #   Column                      Non-Null Count  Dtype  \n",
      "---  ------                      --------------  -----  \n",
      " 0   gender                      215 non-null    int64  \n",
      " 1   ssc_percentage              215 non-null    float64\n",
      " 2   ssc_board                   215 non-null    int64  \n",
      " 3   hsc_percentage              215 non-null    float64\n",
      " 4   hsc_board                   215 non-null    int64  \n",
      " 5   degree_percentage           215 non-null    float64\n",
      " 6   work_experience             215 non-null    int64  \n",
      " 7   emp_test_percentage         215 non-null    float64\n",
      " 8   specialisation              215 non-null    int64  \n",
      " 9   mba_percent                 215 non-null    float64\n",
      " 10  status                      215 non-null    int64  \n",
      " 11  undergrad_degree_Comm&Mgmt  215 non-null    uint8  \n",
      " 12  undergrad_degree_Others     215 non-null    uint8  \n",
      " 13  undergrad_degree_Sci&Tech   215 non-null    uint8  \n",
      " 14  hsc_subject_Arts            215 non-null    uint8  \n",
      " 15  hsc_subject_Commerce        215 non-null    uint8  \n",
      " 16  hsc_subject_Science         215 non-null    uint8  \n",
      "dtypes: float64(5), int64(6), uint8(6)\n",
      "memory usage: 19.9 KB\n"
     ]
    }
   ],
   "source": [
    "df.info()"
   ]
  },
  {
   "cell_type": "code",
   "execution_count": null,
   "id": "cb7d6311",
   "metadata": {},
   "outputs": [],
   "source": []
  },
  {
   "cell_type": "markdown",
   "id": "996a03d6",
   "metadata": {},
   "source": [
    "# Scaling"
   ]
  },
  {
   "cell_type": "code",
   "execution_count": null,
   "id": "7c8ef0d4",
   "metadata": {},
   "outputs": [],
   "source": [
    "x = df.drop('charges',axis = 1)\n",
    "\n",
    "normal_scaler = MinMaxScaler()\n",
    "array = normal_scaler.fit_transform(x)\n",
    "dfx = pd.DataFrame(array, columns = x.columns)\n"
   ]
  },
  {
   "cell_type": "code",
   "execution_count": null,
   "id": "3ea33109",
   "metadata": {},
   "outputs": [],
   "source": []
  },
  {
   "cell_type": "code",
   "execution_count": null,
   "id": "0fbd3dca",
   "metadata": {},
   "outputs": [],
   "source": []
  },
  {
   "cell_type": "code",
   "execution_count": null,
   "id": "d019d238",
   "metadata": {},
   "outputs": [],
   "source": []
  }
 ],
 "metadata": {
  "kernelspec": {
   "display_name": "Python 3 (ipykernel)",
   "language": "python",
   "name": "python3"
  },
  "language_info": {
   "codemirror_mode": {
    "name": "ipython",
    "version": 3
   },
   "file_extension": ".py",
   "mimetype": "text/x-python",
   "name": "python",
   "nbconvert_exporter": "python",
   "pygments_lexer": "ipython3",
   "version": "3.9.12"
  }
 },
 "nbformat": 4,
 "nbformat_minor": 5
}
