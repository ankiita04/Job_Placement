{
 "cells": [
  {
   "cell_type": "markdown",
   "id": "58edde15",
   "metadata": {},
   "source": [
    "# Import Libraries"
   ]
  },
  {
   "cell_type": "code",
   "execution_count": 1,
   "id": "52976357",
   "metadata": {},
   "outputs": [],
   "source": [
    "import pandas as pd\n",
    "import numpy as np\n",
    "\n",
    "\n",
    "from sklearn.preprocessing import MinMaxScaler, StandardScaler\n",
    "from sklearn.model_selection import train_test_split\n",
    "from sklearn.preprocessing import MinMaxScaler, StandardScaler\n",
    "from sklearn.model_selection import train_test_split\n",
    "from sklearn.neighbors import KNeighborsRegressor\n",
    "from sklearn.linear_model import LogisticRegression\n",
    "from sklearn.preprocessing import MinMaxScaler, StandardScaler\n",
    "\n",
    "from sklearn.metrics import confusion_matrix, accuracy_score, classification_report\n",
    "from sklearn.metrics import precision_score, recall_score, f1_score\n",
    "from sklearn.metrics import plot_confusion_matrix\n",
    "from sklearn.metrics import roc_curve, roc_auc_score\n",
    "\n",
    "import matplotlib.pyplot as plt \n",
    "import seaborn as sns\n",
    "import plotly.express as px\n",
    "\n",
    "import warnings\n",
    "warnings.filterwarnings('ignore')\n",
    "\n",
    "\n",
    "\n",
    "import pickle\n",
    "import json\n",
    "import pickle\n",
    "import json"
   ]
  },
  {
   "cell_type": "markdown",
   "id": "7bf75e8e",
   "metadata": {},
   "source": [
    "# Data Gathering"
   ]
  },
  {
   "cell_type": "code",
   "execution_count": 2,
   "id": "3b8549f2",
   "metadata": {},
   "outputs": [
    {
     "data": {
      "text/html": [
       "<div>\n",
       "<style scoped>\n",
       "    .dataframe tbody tr th:only-of-type {\n",
       "        vertical-align: middle;\n",
       "    }\n",
       "\n",
       "    .dataframe tbody tr th {\n",
       "        vertical-align: top;\n",
       "    }\n",
       "\n",
       "    .dataframe thead th {\n",
       "        text-align: right;\n",
       "    }\n",
       "</style>\n",
       "<table border=\"1\" class=\"dataframe\">\n",
       "  <thead>\n",
       "    <tr style=\"text-align: right;\">\n",
       "      <th></th>\n",
       "      <th>gender</th>\n",
       "      <th>ssc_percentage</th>\n",
       "      <th>ssc_board</th>\n",
       "      <th>hsc_percentage</th>\n",
       "      <th>hsc_board</th>\n",
       "      <th>hsc_subject</th>\n",
       "      <th>degree_percentage</th>\n",
       "      <th>undergrad_degree</th>\n",
       "      <th>work_experience</th>\n",
       "      <th>emp_test_percentage</th>\n",
       "      <th>specialisation</th>\n",
       "      <th>mba_percent</th>\n",
       "      <th>status</th>\n",
       "    </tr>\n",
       "  </thead>\n",
       "  <tbody>\n",
       "    <tr>\n",
       "      <th>0</th>\n",
       "      <td>M</td>\n",
       "      <td>67.00</td>\n",
       "      <td>Others</td>\n",
       "      <td>91.00</td>\n",
       "      <td>Others</td>\n",
       "      <td>Commerce</td>\n",
       "      <td>58.00</td>\n",
       "      <td>Sci&amp;Tech</td>\n",
       "      <td>No</td>\n",
       "      <td>55.0</td>\n",
       "      <td>Mkt&amp;HR</td>\n",
       "      <td>58.80</td>\n",
       "      <td>Placed</td>\n",
       "    </tr>\n",
       "    <tr>\n",
       "      <th>1</th>\n",
       "      <td>M</td>\n",
       "      <td>79.33</td>\n",
       "      <td>Central</td>\n",
       "      <td>78.33</td>\n",
       "      <td>Others</td>\n",
       "      <td>Science</td>\n",
       "      <td>77.48</td>\n",
       "      <td>Sci&amp;Tech</td>\n",
       "      <td>Yes</td>\n",
       "      <td>86.5</td>\n",
       "      <td>Mkt&amp;Fin</td>\n",
       "      <td>66.28</td>\n",
       "      <td>Placed</td>\n",
       "    </tr>\n",
       "    <tr>\n",
       "      <th>2</th>\n",
       "      <td>M</td>\n",
       "      <td>65.00</td>\n",
       "      <td>Central</td>\n",
       "      <td>68.00</td>\n",
       "      <td>Central</td>\n",
       "      <td>Arts</td>\n",
       "      <td>64.00</td>\n",
       "      <td>Comm&amp;Mgmt</td>\n",
       "      <td>No</td>\n",
       "      <td>75.0</td>\n",
       "      <td>Mkt&amp;Fin</td>\n",
       "      <td>57.80</td>\n",
       "      <td>Placed</td>\n",
       "    </tr>\n",
       "    <tr>\n",
       "      <th>3</th>\n",
       "      <td>M</td>\n",
       "      <td>56.00</td>\n",
       "      <td>Central</td>\n",
       "      <td>52.00</td>\n",
       "      <td>Central</td>\n",
       "      <td>Science</td>\n",
       "      <td>52.00</td>\n",
       "      <td>Sci&amp;Tech</td>\n",
       "      <td>No</td>\n",
       "      <td>66.0</td>\n",
       "      <td>Mkt&amp;HR</td>\n",
       "      <td>59.43</td>\n",
       "      <td>Not Placed</td>\n",
       "    </tr>\n",
       "    <tr>\n",
       "      <th>4</th>\n",
       "      <td>M</td>\n",
       "      <td>85.80</td>\n",
       "      <td>Central</td>\n",
       "      <td>73.60</td>\n",
       "      <td>Central</td>\n",
       "      <td>Commerce</td>\n",
       "      <td>73.30</td>\n",
       "      <td>Comm&amp;Mgmt</td>\n",
       "      <td>No</td>\n",
       "      <td>96.8</td>\n",
       "      <td>Mkt&amp;Fin</td>\n",
       "      <td>55.50</td>\n",
       "      <td>Placed</td>\n",
       "    </tr>\n",
       "    <tr>\n",
       "      <th>...</th>\n",
       "      <td>...</td>\n",
       "      <td>...</td>\n",
       "      <td>...</td>\n",
       "      <td>...</td>\n",
       "      <td>...</td>\n",
       "      <td>...</td>\n",
       "      <td>...</td>\n",
       "      <td>...</td>\n",
       "      <td>...</td>\n",
       "      <td>...</td>\n",
       "      <td>...</td>\n",
       "      <td>...</td>\n",
       "      <td>...</td>\n",
       "    </tr>\n",
       "    <tr>\n",
       "      <th>210</th>\n",
       "      <td>M</td>\n",
       "      <td>80.60</td>\n",
       "      <td>Others</td>\n",
       "      <td>82.00</td>\n",
       "      <td>Others</td>\n",
       "      <td>Commerce</td>\n",
       "      <td>77.60</td>\n",
       "      <td>Comm&amp;Mgmt</td>\n",
       "      <td>No</td>\n",
       "      <td>91.0</td>\n",
       "      <td>Mkt&amp;Fin</td>\n",
       "      <td>74.49</td>\n",
       "      <td>Placed</td>\n",
       "    </tr>\n",
       "    <tr>\n",
       "      <th>211</th>\n",
       "      <td>M</td>\n",
       "      <td>58.00</td>\n",
       "      <td>Others</td>\n",
       "      <td>60.00</td>\n",
       "      <td>Others</td>\n",
       "      <td>Science</td>\n",
       "      <td>72.00</td>\n",
       "      <td>Sci&amp;Tech</td>\n",
       "      <td>No</td>\n",
       "      <td>74.0</td>\n",
       "      <td>Mkt&amp;Fin</td>\n",
       "      <td>53.62</td>\n",
       "      <td>Placed</td>\n",
       "    </tr>\n",
       "    <tr>\n",
       "      <th>212</th>\n",
       "      <td>M</td>\n",
       "      <td>67.00</td>\n",
       "      <td>Others</td>\n",
       "      <td>67.00</td>\n",
       "      <td>Others</td>\n",
       "      <td>Commerce</td>\n",
       "      <td>73.00</td>\n",
       "      <td>Comm&amp;Mgmt</td>\n",
       "      <td>Yes</td>\n",
       "      <td>59.0</td>\n",
       "      <td>Mkt&amp;Fin</td>\n",
       "      <td>69.72</td>\n",
       "      <td>Placed</td>\n",
       "    </tr>\n",
       "    <tr>\n",
       "      <th>213</th>\n",
       "      <td>F</td>\n",
       "      <td>74.00</td>\n",
       "      <td>Others</td>\n",
       "      <td>66.00</td>\n",
       "      <td>Others</td>\n",
       "      <td>Commerce</td>\n",
       "      <td>58.00</td>\n",
       "      <td>Comm&amp;Mgmt</td>\n",
       "      <td>No</td>\n",
       "      <td>70.0</td>\n",
       "      <td>Mkt&amp;HR</td>\n",
       "      <td>60.23</td>\n",
       "      <td>Placed</td>\n",
       "    </tr>\n",
       "    <tr>\n",
       "      <th>214</th>\n",
       "      <td>M</td>\n",
       "      <td>62.00</td>\n",
       "      <td>Central</td>\n",
       "      <td>58.00</td>\n",
       "      <td>Others</td>\n",
       "      <td>Science</td>\n",
       "      <td>53.00</td>\n",
       "      <td>Comm&amp;Mgmt</td>\n",
       "      <td>No</td>\n",
       "      <td>89.0</td>\n",
       "      <td>Mkt&amp;HR</td>\n",
       "      <td>60.22</td>\n",
       "      <td>Not Placed</td>\n",
       "    </tr>\n",
       "  </tbody>\n",
       "</table>\n",
       "<p>215 rows × 13 columns</p>\n",
       "</div>"
      ],
      "text/plain": [
       "    gender  ssc_percentage ssc_board  hsc_percentage hsc_board hsc_subject  \\\n",
       "0        M           67.00    Others           91.00    Others    Commerce   \n",
       "1        M           79.33   Central           78.33    Others     Science   \n",
       "2        M           65.00   Central           68.00   Central        Arts   \n",
       "3        M           56.00   Central           52.00   Central     Science   \n",
       "4        M           85.80   Central           73.60   Central    Commerce   \n",
       "..     ...             ...       ...             ...       ...         ...   \n",
       "210      M           80.60    Others           82.00    Others    Commerce   \n",
       "211      M           58.00    Others           60.00    Others     Science   \n",
       "212      M           67.00    Others           67.00    Others    Commerce   \n",
       "213      F           74.00    Others           66.00    Others    Commerce   \n",
       "214      M           62.00   Central           58.00    Others     Science   \n",
       "\n",
       "     degree_percentage undergrad_degree work_experience  emp_test_percentage  \\\n",
       "0                58.00         Sci&Tech              No                 55.0   \n",
       "1                77.48         Sci&Tech             Yes                 86.5   \n",
       "2                64.00        Comm&Mgmt              No                 75.0   \n",
       "3                52.00         Sci&Tech              No                 66.0   \n",
       "4                73.30        Comm&Mgmt              No                 96.8   \n",
       "..                 ...              ...             ...                  ...   \n",
       "210              77.60        Comm&Mgmt              No                 91.0   \n",
       "211              72.00         Sci&Tech              No                 74.0   \n",
       "212              73.00        Comm&Mgmt             Yes                 59.0   \n",
       "213              58.00        Comm&Mgmt              No                 70.0   \n",
       "214              53.00        Comm&Mgmt              No                 89.0   \n",
       "\n",
       "    specialisation  mba_percent      status  \n",
       "0           Mkt&HR        58.80      Placed  \n",
       "1          Mkt&Fin        66.28      Placed  \n",
       "2          Mkt&Fin        57.80      Placed  \n",
       "3           Mkt&HR        59.43  Not Placed  \n",
       "4          Mkt&Fin        55.50      Placed  \n",
       "..             ...          ...         ...  \n",
       "210        Mkt&Fin        74.49      Placed  \n",
       "211        Mkt&Fin        53.62      Placed  \n",
       "212        Mkt&Fin        69.72      Placed  \n",
       "213         Mkt&HR        60.23      Placed  \n",
       "214         Mkt&HR        60.22  Not Placed  \n",
       "\n",
       "[215 rows x 13 columns]"
      ]
     },
     "execution_count": 2,
     "metadata": {},
     "output_type": "execute_result"
    }
   ],
   "source": [
    "df = pd.read_csv('Job_Placement_Data.csv')\n",
    "df"
   ]
  },
  {
   "cell_type": "code",
   "execution_count": 3,
   "id": "cde91264",
   "metadata": {},
   "outputs": [
    {
     "name": "stdout",
     "output_type": "stream",
     "text": [
      "<class 'pandas.core.frame.DataFrame'>\n",
      "RangeIndex: 215 entries, 0 to 214\n",
      "Data columns (total 13 columns):\n",
      " #   Column               Non-Null Count  Dtype  \n",
      "---  ------               --------------  -----  \n",
      " 0   gender               215 non-null    object \n",
      " 1   ssc_percentage       215 non-null    float64\n",
      " 2   ssc_board            215 non-null    object \n",
      " 3   hsc_percentage       215 non-null    float64\n",
      " 4   hsc_board            215 non-null    object \n",
      " 5   hsc_subject          215 non-null    object \n",
      " 6   degree_percentage    215 non-null    float64\n",
      " 7   undergrad_degree     215 non-null    object \n",
      " 8   work_experience      215 non-null    object \n",
      " 9   emp_test_percentage  215 non-null    float64\n",
      " 10  specialisation       215 non-null    object \n",
      " 11  mba_percent          215 non-null    float64\n",
      " 12  status               215 non-null    object \n",
      "dtypes: float64(5), object(8)\n",
      "memory usage: 22.0+ KB\n"
     ]
    }
   ],
   "source": [
    "df.info()"
   ]
  },
  {
   "cell_type": "code",
   "execution_count": 4,
   "id": "ba3322dd",
   "metadata": {},
   "outputs": [],
   "source": [
    "df[\"gender\"].value_counts().to_dict()\n",
    "df[\"gender\"].replace({'M': 1, 'F': 0},inplace=True)"
   ]
  },
  {
   "cell_type": "code",
   "execution_count": 5,
   "id": "072b1df1",
   "metadata": {},
   "outputs": [
    {
     "data": {
      "text/plain": [
       "0      67.00\n",
       "1      79.33\n",
       "2      65.00\n",
       "3      56.00\n",
       "4      85.80\n",
       "       ...  \n",
       "210    80.60\n",
       "211    58.00\n",
       "212    67.00\n",
       "213    74.00\n",
       "214    62.00\n",
       "Name: ssc_percentage, Length: 215, dtype: float64"
      ]
     },
     "execution_count": 5,
     "metadata": {},
     "output_type": "execute_result"
    }
   ],
   "source": [
    "df[\"ssc_percentage\"]"
   ]
  },
  {
   "cell_type": "code",
   "execution_count": 6,
   "id": "ee0e0d49",
   "metadata": {},
   "outputs": [],
   "source": [
    "df[\"ssc_board\"].value_counts().to_dict()\n",
    "df[\"ssc_board\"].replace({'Central': 1, 'Others': 0},inplace=True)"
   ]
  },
  {
   "cell_type": "code",
   "execution_count": 7,
   "id": "44949c4c",
   "metadata": {},
   "outputs": [
    {
     "data": {
      "text/plain": [
       "0      91.00\n",
       "1      78.33\n",
       "2      68.00\n",
       "3      52.00\n",
       "4      73.60\n",
       "       ...  \n",
       "210    82.00\n",
       "211    60.00\n",
       "212    67.00\n",
       "213    66.00\n",
       "214    58.00\n",
       "Name: hsc_percentage, Length: 215, dtype: float64"
      ]
     },
     "execution_count": 7,
     "metadata": {},
     "output_type": "execute_result"
    }
   ],
   "source": [
    "df[\"hsc_percentage\"]"
   ]
  },
  {
   "cell_type": "code",
   "execution_count": 8,
   "id": "829ddacd",
   "metadata": {
    "scrolled": true
   },
   "outputs": [],
   "source": [
    "df[\"hsc_board\"].value_counts().to_dict()\n",
    "df[\"hsc_board\"].replace({'Others': 0, 'Central': 1},inplace=True)"
   ]
  },
  {
   "cell_type": "code",
   "execution_count": 9,
   "id": "67da7896",
   "metadata": {},
   "outputs": [],
   "source": [
    "df[\"hsc_subject\"].value_counts().to_dict()\n",
    "df = pd.get_dummies(df, columns=['hsc_subject'])"
   ]
  },
  {
   "cell_type": "code",
   "execution_count": 10,
   "id": "2573c434",
   "metadata": {},
   "outputs": [
    {
     "data": {
      "text/plain": [
       "0      58.00\n",
       "1      77.48\n",
       "2      64.00\n",
       "3      52.00\n",
       "4      73.30\n",
       "       ...  \n",
       "210    77.60\n",
       "211    72.00\n",
       "212    73.00\n",
       "213    58.00\n",
       "214    53.00\n",
       "Name: degree_percentage, Length: 215, dtype: float64"
      ]
     },
     "execution_count": 10,
     "metadata": {},
     "output_type": "execute_result"
    }
   ],
   "source": [
    "df[\"degree_percentage\"]"
   ]
  },
  {
   "cell_type": "code",
   "execution_count": 11,
   "id": "60f707b3",
   "metadata": {},
   "outputs": [
    {
     "data": {
      "text/plain": [
       "{'Comm&Mgmt': 145, 'Sci&Tech': 59, 'Others': 11}"
      ]
     },
     "execution_count": 11,
     "metadata": {},
     "output_type": "execute_result"
    }
   ],
   "source": [
    "df[\"undergrad_degree\"].value_counts().to_dict()"
   ]
  },
  {
   "cell_type": "code",
   "execution_count": 12,
   "id": "e670a00e",
   "metadata": {},
   "outputs": [],
   "source": [
    "df = pd.get_dummies(df, columns=['undergrad_degree'])"
   ]
  },
  {
   "cell_type": "code",
   "execution_count": 13,
   "id": "8af3e83c",
   "metadata": {},
   "outputs": [],
   "source": [
    "df[\"work_experience\"].value_counts().to_dict()\n",
    "df[\"work_experience\"].replace({'No': 0, 'Yes': 1},inplace=True)"
   ]
  },
  {
   "cell_type": "code",
   "execution_count": 14,
   "id": "73bca37b",
   "metadata": {},
   "outputs": [
    {
     "data": {
      "text/plain": [
       "0      55.0\n",
       "1      86.5\n",
       "2      75.0\n",
       "3      66.0\n",
       "4      96.8\n",
       "       ... \n",
       "210    91.0\n",
       "211    74.0\n",
       "212    59.0\n",
       "213    70.0\n",
       "214    89.0\n",
       "Name: emp_test_percentage, Length: 215, dtype: float64"
      ]
     },
     "execution_count": 14,
     "metadata": {},
     "output_type": "execute_result"
    }
   ],
   "source": [
    "df[\"emp_test_percentage\"] "
   ]
  },
  {
   "cell_type": "code",
   "execution_count": 15,
   "id": "2a2a3360",
   "metadata": {},
   "outputs": [],
   "source": [
    "df[\"specialisation\"].value_counts().to_dict()\n",
    "df[\"specialisation\"].replace({'Mkt&Fin': 1, 'Mkt&HR': 0},inplace=True)"
   ]
  },
  {
   "cell_type": "code",
   "execution_count": 16,
   "id": "e0afc8d7",
   "metadata": {},
   "outputs": [
    {
     "data": {
      "text/plain": [
       "0      58.80\n",
       "1      66.28\n",
       "2      57.80\n",
       "3      59.43\n",
       "4      55.50\n",
       "       ...  \n",
       "210    74.49\n",
       "211    53.62\n",
       "212    69.72\n",
       "213    60.23\n",
       "214    60.22\n",
       "Name: mba_percent, Length: 215, dtype: float64"
      ]
     },
     "execution_count": 16,
     "metadata": {},
     "output_type": "execute_result"
    }
   ],
   "source": [
    "df[\"mba_percent\"]\n"
   ]
  },
  {
   "cell_type": "code",
   "execution_count": 17,
   "id": "ce546004",
   "metadata": {},
   "outputs": [],
   "source": [
    "df[\"status\"].value_counts().to_dict()\n",
    "df[\"status\"].replace({'Placed': 1, 'Not Placed': 0},inplace=True)"
   ]
  },
  {
   "cell_type": "code",
   "execution_count": 18,
   "id": "a6beebae",
   "metadata": {},
   "outputs": [
    {
     "name": "stdout",
     "output_type": "stream",
     "text": [
      "<class 'pandas.core.frame.DataFrame'>\n",
      "RangeIndex: 215 entries, 0 to 214\n",
      "Data columns (total 17 columns):\n",
      " #   Column                      Non-Null Count  Dtype  \n",
      "---  ------                      --------------  -----  \n",
      " 0   gender                      215 non-null    int64  \n",
      " 1   ssc_percentage              215 non-null    float64\n",
      " 2   ssc_board                   215 non-null    int64  \n",
      " 3   hsc_percentage              215 non-null    float64\n",
      " 4   hsc_board                   215 non-null    int64  \n",
      " 5   degree_percentage           215 non-null    float64\n",
      " 6   work_experience             215 non-null    int64  \n",
      " 7   emp_test_percentage         215 non-null    float64\n",
      " 8   specialisation              215 non-null    int64  \n",
      " 9   mba_percent                 215 non-null    float64\n",
      " 10  status                      215 non-null    int64  \n",
      " 11  hsc_subject_Arts            215 non-null    uint8  \n",
      " 12  hsc_subject_Commerce        215 non-null    uint8  \n",
      " 13  hsc_subject_Science         215 non-null    uint8  \n",
      " 14  undergrad_degree_Comm&Mgmt  215 non-null    uint8  \n",
      " 15  undergrad_degree_Others     215 non-null    uint8  \n",
      " 16  undergrad_degree_Sci&Tech   215 non-null    uint8  \n",
      "dtypes: float64(5), int64(6), uint8(6)\n",
      "memory usage: 19.9 KB\n"
     ]
    }
   ],
   "source": [
    "df.info()"
   ]
  },
  {
   "cell_type": "code",
   "execution_count": null,
   "id": "c85fcdc5",
   "metadata": {},
   "outputs": [],
   "source": []
  },
  {
   "cell_type": "markdown",
   "id": "d5e9659b",
   "metadata": {},
   "source": [
    "# Scaling"
   ]
  },
  {
   "cell_type": "code",
   "execution_count": 19,
   "id": "0e1de73a",
   "metadata": {},
   "outputs": [
    {
     "data": {
      "text/html": [
       "<div>\n",
       "<style scoped>\n",
       "    .dataframe tbody tr th:only-of-type {\n",
       "        vertical-align: middle;\n",
       "    }\n",
       "\n",
       "    .dataframe tbody tr th {\n",
       "        vertical-align: top;\n",
       "    }\n",
       "\n",
       "    .dataframe thead th {\n",
       "        text-align: right;\n",
       "    }\n",
       "</style>\n",
       "<table border=\"1\" class=\"dataframe\">\n",
       "  <thead>\n",
       "    <tr style=\"text-align: right;\">\n",
       "      <th></th>\n",
       "      <th>gender</th>\n",
       "      <th>ssc_percentage</th>\n",
       "      <th>ssc_board</th>\n",
       "      <th>hsc_percentage</th>\n",
       "      <th>hsc_board</th>\n",
       "      <th>degree_percentage</th>\n",
       "      <th>work_experience</th>\n",
       "      <th>emp_test_percentage</th>\n",
       "      <th>specialisation</th>\n",
       "      <th>mba_percent</th>\n",
       "      <th>hsc_subject_Arts</th>\n",
       "      <th>hsc_subject_Commerce</th>\n",
       "      <th>hsc_subject_Science</th>\n",
       "      <th>undergrad_degree_Comm&amp;Mgmt</th>\n",
       "      <th>undergrad_degree_Others</th>\n",
       "      <th>undergrad_degree_Sci&amp;Tech</th>\n",
       "    </tr>\n",
       "  </thead>\n",
       "  <tbody>\n",
       "    <tr>\n",
       "      <th>0</th>\n",
       "      <td>0.739434</td>\n",
       "      <td>-0.028087</td>\n",
       "      <td>-1.082459</td>\n",
       "      <td>2.268812</td>\n",
       "      <td>-0.800763</td>\n",
       "      <td>-1.140102</td>\n",
       "      <td>-0.724446</td>\n",
       "      <td>-1.291091</td>\n",
       "      <td>-1.123903</td>\n",
       "      <td>-0.597647</td>\n",
       "      <td>-0.232210</td>\n",
       "      <td>0.950082</td>\n",
       "      <td>-0.856663</td>\n",
       "      <td>-1.439246</td>\n",
       "      <td>-0.23221</td>\n",
       "      <td>1.626059</td>\n",
       "    </tr>\n",
       "    <tr>\n",
       "      <th>1</th>\n",
       "      <td>0.739434</td>\n",
       "      <td>1.113369</td>\n",
       "      <td>0.923823</td>\n",
       "      <td>1.103448</td>\n",
       "      <td>-0.800763</td>\n",
       "      <td>1.513267</td>\n",
       "      <td>1.380364</td>\n",
       "      <td>1.087157</td>\n",
       "      <td>0.889757</td>\n",
       "      <td>0.687620</td>\n",
       "      <td>-0.232210</td>\n",
       "      <td>-1.052541</td>\n",
       "      <td>1.167321</td>\n",
       "      <td>-1.439246</td>\n",
       "      <td>-0.23221</td>\n",
       "      <td>1.626059</td>\n",
       "    </tr>\n",
       "    <tr>\n",
       "      <th>2</th>\n",
       "      <td>0.739434</td>\n",
       "      <td>-0.213238</td>\n",
       "      <td>0.923823</td>\n",
       "      <td>0.153313</td>\n",
       "      <td>1.248809</td>\n",
       "      <td>-0.322843</td>\n",
       "      <td>-0.724446</td>\n",
       "      <td>0.218908</td>\n",
       "      <td>0.889757</td>\n",
       "      <td>-0.769474</td>\n",
       "      <td>4.306443</td>\n",
       "      <td>-1.052541</td>\n",
       "      <td>-0.856663</td>\n",
       "      <td>0.694808</td>\n",
       "      <td>-0.23221</td>\n",
       "      <td>-0.614984</td>\n",
       "    </tr>\n",
       "    <tr>\n",
       "      <th>3</th>\n",
       "      <td>0.739434</td>\n",
       "      <td>-1.046417</td>\n",
       "      <td>0.923823</td>\n",
       "      <td>-1.318339</td>\n",
       "      <td>1.248809</td>\n",
       "      <td>-1.957362</td>\n",
       "      <td>-0.724446</td>\n",
       "      <td>-0.460592</td>\n",
       "      <td>-1.123903</td>\n",
       "      <td>-0.489396</td>\n",
       "      <td>-0.232210</td>\n",
       "      <td>-1.052541</td>\n",
       "      <td>1.167321</td>\n",
       "      <td>-1.439246</td>\n",
       "      <td>-0.23221</td>\n",
       "      <td>1.626059</td>\n",
       "    </tr>\n",
       "    <tr>\n",
       "      <th>4</th>\n",
       "      <td>0.739434</td>\n",
       "      <td>1.712332</td>\n",
       "      <td>0.923823</td>\n",
       "      <td>0.668391</td>\n",
       "      <td>1.248809</td>\n",
       "      <td>0.943909</td>\n",
       "      <td>-0.724446</td>\n",
       "      <td>1.864806</td>\n",
       "      <td>0.889757</td>\n",
       "      <td>-1.164676</td>\n",
       "      <td>-0.232210</td>\n",
       "      <td>0.950082</td>\n",
       "      <td>-0.856663</td>\n",
       "      <td>0.694808</td>\n",
       "      <td>-0.23221</td>\n",
       "      <td>-0.614984</td>\n",
       "    </tr>\n",
       "    <tr>\n",
       "      <th>...</th>\n",
       "      <td>...</td>\n",
       "      <td>...</td>\n",
       "      <td>...</td>\n",
       "      <td>...</td>\n",
       "      <td>...</td>\n",
       "      <td>...</td>\n",
       "      <td>...</td>\n",
       "      <td>...</td>\n",
       "      <td>...</td>\n",
       "      <td>...</td>\n",
       "      <td>...</td>\n",
       "      <td>...</td>\n",
       "      <td>...</td>\n",
       "      <td>...</td>\n",
       "      <td>...</td>\n",
       "      <td>...</td>\n",
       "    </tr>\n",
       "    <tr>\n",
       "      <th>210</th>\n",
       "      <td>0.739434</td>\n",
       "      <td>1.230940</td>\n",
       "      <td>-1.082459</td>\n",
       "      <td>1.441008</td>\n",
       "      <td>-0.800763</td>\n",
       "      <td>1.529612</td>\n",
       "      <td>-0.724446</td>\n",
       "      <td>1.426906</td>\n",
       "      <td>0.889757</td>\n",
       "      <td>2.098321</td>\n",
       "      <td>-0.232210</td>\n",
       "      <td>0.950082</td>\n",
       "      <td>-0.856663</td>\n",
       "      <td>0.694808</td>\n",
       "      <td>-0.23221</td>\n",
       "      <td>-0.614984</td>\n",
       "    </tr>\n",
       "    <tr>\n",
       "      <th>211</th>\n",
       "      <td>0.739434</td>\n",
       "      <td>-0.861266</td>\n",
       "      <td>-1.082459</td>\n",
       "      <td>-0.582513</td>\n",
       "      <td>-0.800763</td>\n",
       "      <td>0.766836</td>\n",
       "      <td>-0.724446</td>\n",
       "      <td>0.143408</td>\n",
       "      <td>0.889757</td>\n",
       "      <td>-1.487711</td>\n",
       "      <td>-0.232210</td>\n",
       "      <td>-1.052541</td>\n",
       "      <td>1.167321</td>\n",
       "      <td>-1.439246</td>\n",
       "      <td>-0.23221</td>\n",
       "      <td>1.626059</td>\n",
       "    </tr>\n",
       "    <tr>\n",
       "      <th>212</th>\n",
       "      <td>0.739434</td>\n",
       "      <td>-0.028087</td>\n",
       "      <td>-1.082459</td>\n",
       "      <td>0.061335</td>\n",
       "      <td>-0.800763</td>\n",
       "      <td>0.903046</td>\n",
       "      <td>1.380364</td>\n",
       "      <td>-0.989091</td>\n",
       "      <td>0.889757</td>\n",
       "      <td>1.278706</td>\n",
       "      <td>-0.232210</td>\n",
       "      <td>0.950082</td>\n",
       "      <td>-0.856663</td>\n",
       "      <td>0.694808</td>\n",
       "      <td>-0.23221</td>\n",
       "      <td>-0.614984</td>\n",
       "    </tr>\n",
       "    <tr>\n",
       "      <th>213</th>\n",
       "      <td>-1.352386</td>\n",
       "      <td>0.619941</td>\n",
       "      <td>-1.082459</td>\n",
       "      <td>-0.030644</td>\n",
       "      <td>-0.800763</td>\n",
       "      <td>-1.140102</td>\n",
       "      <td>-0.724446</td>\n",
       "      <td>-0.158592</td>\n",
       "      <td>-1.123903</td>\n",
       "      <td>-0.351934</td>\n",
       "      <td>-0.232210</td>\n",
       "      <td>0.950082</td>\n",
       "      <td>-0.856663</td>\n",
       "      <td>0.694808</td>\n",
       "      <td>-0.23221</td>\n",
       "      <td>-0.614984</td>\n",
       "    </tr>\n",
       "    <tr>\n",
       "      <th>214</th>\n",
       "      <td>0.739434</td>\n",
       "      <td>-0.490964</td>\n",
       "      <td>0.923823</td>\n",
       "      <td>-0.766470</td>\n",
       "      <td>-0.800763</td>\n",
       "      <td>-1.821152</td>\n",
       "      <td>-0.724446</td>\n",
       "      <td>1.275907</td>\n",
       "      <td>-1.123903</td>\n",
       "      <td>-0.353652</td>\n",
       "      <td>-0.232210</td>\n",
       "      <td>-1.052541</td>\n",
       "      <td>1.167321</td>\n",
       "      <td>0.694808</td>\n",
       "      <td>-0.23221</td>\n",
       "      <td>-0.614984</td>\n",
       "    </tr>\n",
       "  </tbody>\n",
       "</table>\n",
       "<p>215 rows × 16 columns</p>\n",
       "</div>"
      ],
      "text/plain": [
       "       gender  ssc_percentage  ssc_board  hsc_percentage  hsc_board  \\\n",
       "0    0.739434       -0.028087  -1.082459        2.268812  -0.800763   \n",
       "1    0.739434        1.113369   0.923823        1.103448  -0.800763   \n",
       "2    0.739434       -0.213238   0.923823        0.153313   1.248809   \n",
       "3    0.739434       -1.046417   0.923823       -1.318339   1.248809   \n",
       "4    0.739434        1.712332   0.923823        0.668391   1.248809   \n",
       "..        ...             ...        ...             ...        ...   \n",
       "210  0.739434        1.230940  -1.082459        1.441008  -0.800763   \n",
       "211  0.739434       -0.861266  -1.082459       -0.582513  -0.800763   \n",
       "212  0.739434       -0.028087  -1.082459        0.061335  -0.800763   \n",
       "213 -1.352386        0.619941  -1.082459       -0.030644  -0.800763   \n",
       "214  0.739434       -0.490964   0.923823       -0.766470  -0.800763   \n",
       "\n",
       "     degree_percentage  work_experience  emp_test_percentage  specialisation  \\\n",
       "0            -1.140102        -0.724446            -1.291091       -1.123903   \n",
       "1             1.513267         1.380364             1.087157        0.889757   \n",
       "2            -0.322843        -0.724446             0.218908        0.889757   \n",
       "3            -1.957362        -0.724446            -0.460592       -1.123903   \n",
       "4             0.943909        -0.724446             1.864806        0.889757   \n",
       "..                 ...              ...                  ...             ...   \n",
       "210           1.529612        -0.724446             1.426906        0.889757   \n",
       "211           0.766836        -0.724446             0.143408        0.889757   \n",
       "212           0.903046         1.380364            -0.989091        0.889757   \n",
       "213          -1.140102        -0.724446            -0.158592       -1.123903   \n",
       "214          -1.821152        -0.724446             1.275907       -1.123903   \n",
       "\n",
       "     mba_percent  hsc_subject_Arts  hsc_subject_Commerce  hsc_subject_Science  \\\n",
       "0      -0.597647         -0.232210              0.950082            -0.856663   \n",
       "1       0.687620         -0.232210             -1.052541             1.167321   \n",
       "2      -0.769474          4.306443             -1.052541            -0.856663   \n",
       "3      -0.489396         -0.232210             -1.052541             1.167321   \n",
       "4      -1.164676         -0.232210              0.950082            -0.856663   \n",
       "..           ...               ...                   ...                  ...   \n",
       "210     2.098321         -0.232210              0.950082            -0.856663   \n",
       "211    -1.487711         -0.232210             -1.052541             1.167321   \n",
       "212     1.278706         -0.232210              0.950082            -0.856663   \n",
       "213    -0.351934         -0.232210              0.950082            -0.856663   \n",
       "214    -0.353652         -0.232210             -1.052541             1.167321   \n",
       "\n",
       "     undergrad_degree_Comm&Mgmt  undergrad_degree_Others  \\\n",
       "0                     -1.439246                 -0.23221   \n",
       "1                     -1.439246                 -0.23221   \n",
       "2                      0.694808                 -0.23221   \n",
       "3                     -1.439246                 -0.23221   \n",
       "4                      0.694808                 -0.23221   \n",
       "..                          ...                      ...   \n",
       "210                    0.694808                 -0.23221   \n",
       "211                   -1.439246                 -0.23221   \n",
       "212                    0.694808                 -0.23221   \n",
       "213                    0.694808                 -0.23221   \n",
       "214                    0.694808                 -0.23221   \n",
       "\n",
       "     undergrad_degree_Sci&Tech  \n",
       "0                     1.626059  \n",
       "1                     1.626059  \n",
       "2                    -0.614984  \n",
       "3                     1.626059  \n",
       "4                    -0.614984  \n",
       "..                         ...  \n",
       "210                  -0.614984  \n",
       "211                   1.626059  \n",
       "212                  -0.614984  \n",
       "213                  -0.614984  \n",
       "214                  -0.614984  \n",
       "\n",
       "[215 rows x 16 columns]"
      ]
     },
     "execution_count": 19,
     "metadata": {},
     "output_type": "execute_result"
    }
   ],
   "source": [
    "x = df.drop('status',axis =1)\n",
    "\n",
    "std_scaler2 = StandardScaler() # Xmean and Xstd\n",
    "array1 = std_scaler2.fit_transform(x) # fit + tranform\n",
    "std_dfx = pd.DataFrame(array1, columns=x.columns)\n",
    "std_dfx"
   ]
  },
  {
   "cell_type": "markdown",
   "id": "9c0c4362",
   "metadata": {},
   "source": [
    "## Logistic Regression"
   ]
  },
  {
   "cell_type": "code",
   "execution_count": 20,
   "id": "413d5205",
   "metadata": {},
   "outputs": [
    {
     "data": {
      "text/plain": [
       "LogisticRegression()"
      ]
     },
     "execution_count": 20,
     "metadata": {},
     "output_type": "execute_result"
    }
   ],
   "source": [
    "x = df.drop('status', axis = 1)\n",
    "y = df.status\n",
    "\n",
    "x_train, x_test, y_train, y_test = train_test_split(x,y, test_size=0.2, \n",
    "                                    random_state=55, stratify=y)\n",
    "log_reg_model = LogisticRegression()\n",
    "log_reg_model.fit(x_train, y_train) # Gredient Descent, LogLoss, With threshold of 0.5"
   ]
  },
  {
   "cell_type": "code",
   "execution_count": 21,
   "id": "3adc8c58",
   "metadata": {},
   "outputs": [
    {
     "data": {
      "text/plain": [
       "0.8604651162790697"
      ]
     },
     "execution_count": 21,
     "metadata": {},
     "output_type": "execute_result"
    }
   ],
   "source": [
    "log_reg_model.score(x_train, y_train)\n"
   ]
  },
  {
   "cell_type": "code",
   "execution_count": 22,
   "id": "c993652e",
   "metadata": {},
   "outputs": [
    {
     "data": {
      "text/plain": [
       "0.9069767441860465"
      ]
     },
     "execution_count": 22,
     "metadata": {},
     "output_type": "execute_result"
    }
   ],
   "source": [
    "log_reg_model.score(x_test, y_test)"
   ]
  },
  {
   "cell_type": "code",
   "execution_count": 23,
   "id": "ccd7213e",
   "metadata": {},
   "outputs": [
    {
     "data": {
      "text/plain": [
       "<sklearn.metrics._plot.confusion_matrix.ConfusionMatrixDisplay at 0x27de79071f0>"
      ]
     },
     "execution_count": 23,
     "metadata": {},
     "output_type": "execute_result"
    },
    {
     "data": {
      "image/png": "[encoded data removed]",
      "text/plain": [
       "<Figure size 432x288 with 2 Axes>"
      ]
     },
     "metadata": {
      "needs_background": "light"
     },
     "output_type": "display_data"
    }
   ],
   "source": [
    "log_reg_model.score(x_train, y_train)\n",
    "plot_confusion_matrix(log_reg_model , x_train, y_train)"
   ]
  },
  {
   "cell_type": "code",
   "execution_count": 24,
   "id": "8dcfde3d",
   "metadata": {},
   "outputs": [
    {
     "name": "stdout",
     "output_type": "stream",
     "text": [
      "Confusion Matrix :\n",
      " [[ 40  14]\n",
      " [ 10 108]]\n",
      "**************************************************\n",
      "Accuracy is : 0.8604651162790697\n",
      "**************************************************\n",
      "Classification Report :\n",
      "               precision    recall  f1-score   support\n",
      "\n",
      "           0       0.80      0.74      0.77        54\n",
      "           1       0.89      0.92      0.90       118\n",
      "\n",
      "    accuracy                           0.86       172\n",
      "   macro avg       0.84      0.83      0.83       172\n",
      "weighted avg       0.86      0.86      0.86       172\n",
      "\n",
      "**************************************************\n",
      "Precision : 0.8852459016393442\n",
      "Recall : 0.9152542372881356\n",
      "F1 Score: 0.9\n",
      "**************************************************\n"
     ]
    }
   ],
   "source": [
    "## Evaluation on Training Dataset\n",
    "\n",
    "y_pred_train = log_reg_model.predict(x_train)\n",
    "\n",
    "cnf_matrix = confusion_matrix(y_train, y_pred_train)\n",
    "print(\"Confusion Matrix :\\n\", cnf_matrix)\n",
    "print(\"*\"* 50)\n",
    "\n",
    "accuracy = accuracy_score(y_train, y_pred_train)\n",
    "print(\"Accuracy is :\",accuracy)\n",
    "print(\"*\"* 50)\n",
    "\n",
    "clf_report = classification_report(y_train, y_pred_train)\n",
    "print('Classification Report :\\n',clf_report)\n",
    "print(\"*\"* 50)\n",
    "\n",
    "precision_value = precision_score(y_train, y_pred_train)\n",
    "print(\"Precision :\",precision_value)\n",
    "\n",
    "recall_value = recall_score(y_train, y_pred_train)\n",
    "print('Recall :',recall_value)\n",
    "\n",
    "f1_value = f1_score(y_train, y_pred_train)\n",
    "print('F1 Score:',f1_value)\n",
    "print(\"*\"* 50)"
   ]
  },
  {
   "cell_type": "code",
   "execution_count": 25,
   "id": "99ba1be3",
   "metadata": {},
   "outputs": [
    {
     "name": "stdout",
     "output_type": "stream",
     "text": [
      "              precision    recall  f1-score   support\n",
      "\n",
      "           0       0.80      0.74      0.77        54\n",
      "           1       0.89      0.92      0.90       118\n",
      "\n",
      "    accuracy                           0.86       172\n",
      "   macro avg       0.84      0.83      0.83       172\n",
      "weighted avg       0.86      0.86      0.86       172\n",
      "\n"
     ]
    }
   ],
   "source": [
    "clf_report = classification_report(y_train, y_pred_train)\n",
    "print(clf_report)"
   ]
  },
  {
   "cell_type": "code",
   "execution_count": 26,
   "id": "1c3a1180",
   "metadata": {},
   "outputs": [
    {
     "name": "stdout",
     "output_type": "stream",
     "text": [
      "Confusion Matrix :\n",
      " [[11  2]\n",
      " [ 2 28]]\n",
      "**************************************************\n",
      "Accuracy is : 0.9069767441860465\n",
      "**************************************************\n",
      "Classification Report :\n",
      "               precision    recall  f1-score   support\n",
      "\n",
      "           0       0.85      0.85      0.85        13\n",
      "           1       0.93      0.93      0.93        30\n",
      "\n",
      "    accuracy                           0.91        43\n",
      "   macro avg       0.89      0.89      0.89        43\n",
      "weighted avg       0.91      0.91      0.91        43\n",
      "\n",
      "**************************************************\n",
      "Precision : 0.9333333333333333\n",
      "Recall : 0.9333333333333333\n",
      "F1 Score: 0.9333333333333333\n",
      "**************************************************\n"
     ]
    }
   ],
   "source": [
    "# Evaluation on Testing Dataset\n",
    "\n",
    "y_pred = log_reg_model.predict(x_test)\n",
    "\n",
    "cnf_matrix = confusion_matrix(y_test, y_pred)\n",
    "print(\"Confusion Matrix :\\n\", cnf_matrix)\n",
    "print(\"*\"* 50)\n",
    "\n",
    "accuracy = accuracy_score(y_test, y_pred)\n",
    "print(\"Accuracy is :\",accuracy)\n",
    "print(\"*\"* 50)\n",
    "\n",
    "clf_report = classification_report(y_test, y_pred)\n",
    "print('Classification Report :\\n',clf_report)\n",
    "print(\"*\"* 50)\n",
    "\n",
    "precision_value = precision_score(y_test, y_pred)\n",
    "print(\"Precision :\",precision_value)\n",
    "\n",
    "recall_value = recall_score(y_test, y_pred)\n",
    "print('Recall :',recall_value)\n",
    "\n",
    "f1_value = f1_score(y_test, y_pred)\n",
    "print('F1 Score:',f1_value)\n",
    "print(\"*\"* 50)"
   ]
  },
  {
   "cell_type": "code",
   "execution_count": 27,
   "id": "409d3a77",
   "metadata": {},
   "outputs": [
    {
     "name": "stdout",
     "output_type": "stream",
     "text": [
      "              precision    recall  f1-score   support\n",
      "\n",
      "           0       0.85      0.85      0.85        13\n",
      "           1       0.93      0.93      0.93        30\n",
      "\n",
      "    accuracy                           0.91        43\n",
      "   macro avg       0.89      0.89      0.89        43\n",
      "weighted avg       0.91      0.91      0.91        43\n",
      "\n"
     ]
    }
   ],
   "source": [
    "clf_report = classification_report(y_test, y_pred)\n",
    "print(clf_report)"
   ]
  },
  {
   "cell_type": "markdown",
   "id": "32d356ab",
   "metadata": {},
   "source": [
    "# Save Model"
   ]
  },
  {
   "cell_type": "markdown",
   "id": "19a487e2",
   "metadata": {},
   "source": [
    "### model"
   ]
  },
  {
   "cell_type": "code",
   "execution_count": 28,
   "id": "24b8f964",
   "metadata": {},
   "outputs": [],
   "source": [
    "with open(r'artifacts/regression_model.pkl','wb') as f:\n",
    "    pickle.dump(log_reg_model, f)\n",
    "    "
   ]
  },
  {
   "cell_type": "code",
   "execution_count": 29,
   "id": "2b1a4824",
   "metadata": {},
   "outputs": [
    {
     "data": {
      "text/plain": [
       "16"
      ]
     },
     "execution_count": 29,
     "metadata": {},
     "output_type": "execute_result"
    }
   ],
   "source": [
    "log_reg_model.n_features_in_"
   ]
  },
  {
   "cell_type": "markdown",
   "id": "f55790a4",
   "metadata": {},
   "source": [
    "### save columns name"
   ]
  },
  {
   "cell_type": "code",
   "execution_count": 30,
   "id": "219fa604",
   "metadata": {},
   "outputs": [],
   "source": [
    "column_names = x.columns\n",
    "\n",
    "project_data = {\"Column Names\" : column_names.tolist(),\n",
    "               \"gender\":{'M': 1, 'F': 0},\n",
    "               \"ssc_board\" :{'Central': 1, 'Others': 0},\n",
    "               \"hsc_board\" : {'Others': 0, 'Central': 1},\n",
    "                \"work_experience\" : {'No': 0, 'Yes': 1},\n",
    "                \"specialisation\" : {'Mkt&Fin': 1, 'Mkt&HR': 0}}\n",
    "\n",
    "with open(r'artifacts/project_data.json','w') as f:\n",
    "    json.dump(project_data, f)\n",
    "    "
   ]
  },
  {
   "cell_type": "code",
   "execution_count": 31,
   "id": "fd7a7c34",
   "metadata": {},
   "outputs": [
    {
     "data": {
      "text/plain": [
       "16"
      ]
     },
     "execution_count": 31,
     "metadata": {},
     "output_type": "execute_result"
    }
   ],
   "source": [
    "log_reg_model.n_features_in_"
   ]
  },
  {
   "cell_type": "code",
   "execution_count": 32,
   "id": "73d79a7f",
   "metadata": {},
   "outputs": [
    {
     "data": {
      "text/plain": [
       "array([0., 0., 0., 0., 0., 0., 0., 0., 0., 0., 0., 0., 0., 0., 0., 0.])"
      ]
     },
     "execution_count": 32,
     "metadata": {},
     "output_type": "execute_result"
    }
   ],
   "source": [
    "np.zeros(16)"
   ]
  },
  {
   "cell_type": "code",
   "execution_count": 33,
   "id": "33993bba",
   "metadata": {},
   "outputs": [
    {
     "data": {
      "text/plain": [
       "array([[0., 0., 0., 0., 0., 0., 0., 0., 0., 0., 0., 0., 0., 0., 0., 0.]])"
      ]
     },
     "execution_count": 33,
     "metadata": {},
     "output_type": "execute_result"
    }
   ],
   "source": [
    "np.zeros((1,16))"
   ]
  }
 ],
 "metadata": {
  "kernelspec": {
   "display_name": "Python 3 (ipykernel)",
   "language": "python",
   "name": "python3"
  },
  "language_info": {
   "codemirror_mode": {
    "name": "ipython",
    "version": 3
   },
   "file_extension": ".py",
   "mimetype": "text/x-python",
   "name": "python",
   "nbconvert_exporter": "python",
   "pygments_lexer": "ipython3",
   "version": "3.9.12"
  }
 },
 "nbformat": 4,
 "nbformat_minor": 5
}
